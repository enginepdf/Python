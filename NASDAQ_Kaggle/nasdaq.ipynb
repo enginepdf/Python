{
 "cells": [
  {
   "cell_type": "code",
   "execution_count": null,
   "metadata": {},
   "outputs": [],
   "source": [
    "# https://www.kaggle.com/dhimananubhav/nasdaq-company-list"
   ]
  },
  {
   "cell_type": "code",
   "execution_count": 2,
   "metadata": {},
   "outputs": [
    {
     "output_type": "execute_result",
     "data": {
      "text/plain": [
       "  Symbol                                    Name  LastSale     MarketCap  \\\n",
       "0     YI                               111, Inc.    8.0100  6.395629e+07   \n",
       "1    PIH  1347 Property Insurance Holdings, Inc.    4.8999  2.936232e+07   \n",
       "2  PIHPP  1347 Property Insurance Holdings, Inc.   22.6500  0.000000e+00   \n",
       "3   TURN                180 Degree Capital Corp.    1.9403  6.038517e+07   \n",
       "4   FLWS                 1-800 FLOWERS.COM, Inc.   17.2000  1.103523e+09   \n",
       "\n",
       "     ADR TSO  IPOyear             Sector                    Industry  \\\n",
       "0  7984555.0   2018.0        Health Care    Medical/Nursing Services   \n",
       "1        NaN   2014.0            Finance  Property-Casualty Insurers   \n",
       "2        NaN      NaN            Finance  Property-Casualty Insurers   \n",
       "3        NaN      NaN            Finance  Finance/Investors Services   \n",
       "4        NaN   1999.0  Consumer Services      Other Specialty Stores   \n",
       "\n",
       "                         Summary Quote  Unnamed: 9  \n",
       "0     https://www.nasdaq.com/symbol/yi         NaN  \n",
       "1    https://www.nasdaq.com/symbol/pih         NaN  \n",
       "2  https://www.nasdaq.com/symbol/pihpp         NaN  \n",
       "3   https://www.nasdaq.com/symbol/turn         NaN  \n",
       "4   https://www.nasdaq.com/symbol/flws         NaN  "
      ],
      "text/html": "<div>\n<style scoped>\n    .dataframe tbody tr th:only-of-type {\n        vertical-align: middle;\n    }\n\n    .dataframe tbody tr th {\n        vertical-align: top;\n    }\n\n    .dataframe thead th {\n        text-align: right;\n    }\n</style>\n<table border=\"1\" class=\"dataframe\">\n  <thead>\n    <tr style=\"text-align: right;\">\n      <th></th>\n      <th>Symbol</th>\n      <th>Name</th>\n      <th>LastSale</th>\n      <th>MarketCap</th>\n      <th>ADR TSO</th>\n      <th>IPOyear</th>\n      <th>Sector</th>\n      <th>Industry</th>\n      <th>Summary Quote</th>\n      <th>Unnamed: 9</th>\n    </tr>\n  </thead>\n  <tbody>\n    <tr>\n      <th>0</th>\n      <td>YI</td>\n      <td>111, Inc.</td>\n      <td>8.0100</td>\n      <td>6.395629e+07</td>\n      <td>7984555.0</td>\n      <td>2018.0</td>\n      <td>Health Care</td>\n      <td>Medical/Nursing Services</td>\n      <td>https://www.nasdaq.com/symbol/yi</td>\n      <td>NaN</td>\n    </tr>\n    <tr>\n      <th>1</th>\n      <td>PIH</td>\n      <td>1347 Property Insurance Holdings, Inc.</td>\n      <td>4.8999</td>\n      <td>2.936232e+07</td>\n      <td>NaN</td>\n      <td>2014.0</td>\n      <td>Finance</td>\n      <td>Property-Casualty Insurers</td>\n      <td>https://www.nasdaq.com/symbol/pih</td>\n      <td>NaN</td>\n    </tr>\n    <tr>\n      <th>2</th>\n      <td>PIHPP</td>\n      <td>1347 Property Insurance Holdings, Inc.</td>\n      <td>22.6500</td>\n      <td>0.000000e+00</td>\n      <td>NaN</td>\n      <td>NaN</td>\n      <td>Finance</td>\n      <td>Property-Casualty Insurers</td>\n      <td>https://www.nasdaq.com/symbol/pihpp</td>\n      <td>NaN</td>\n    </tr>\n    <tr>\n      <th>3</th>\n      <td>TURN</td>\n      <td>180 Degree Capital Corp.</td>\n      <td>1.9403</td>\n      <td>6.038517e+07</td>\n      <td>NaN</td>\n      <td>NaN</td>\n      <td>Finance</td>\n      <td>Finance/Investors Services</td>\n      <td>https://www.nasdaq.com/symbol/turn</td>\n      <td>NaN</td>\n    </tr>\n    <tr>\n      <th>4</th>\n      <td>FLWS</td>\n      <td>1-800 FLOWERS.COM, Inc.</td>\n      <td>17.2000</td>\n      <td>1.103523e+09</td>\n      <td>NaN</td>\n      <td>1999.0</td>\n      <td>Consumer Services</td>\n      <td>Other Specialty Stores</td>\n      <td>https://www.nasdaq.com/symbol/flws</td>\n      <td>NaN</td>\n    </tr>\n  </tbody>\n</table>\n</div>"
     },
     "metadata": {},
     "execution_count": 2
    }
   ],
   "source": [
    "import pandas as pd\n",
    "df = pd.read_csv('companylist.csv')\n",
    "df.shape   # shape is property\n",
    "df.head(5)"
   ]
  },
  {
   "cell_type": "code",
   "execution_count": 3,
   "metadata": {},
   "outputs": [
    {
     "output_type": "execute_result",
     "data": {
      "text/plain": [
       "          LastSale     MarketCap       ADR TSO      IPOyear  Unnamed: 9\n",
       "count  3423.000000  3.426000e+03  1.340000e+02  1584.000000         0.0\n",
       "mean     31.639827  3.897142e+09  6.123901e+07  2009.040404         NaN\n",
       "std      68.682113  3.335797e+10  1.663795e+08     9.908087         NaN\n",
       "min       0.002900  0.000000e+00  2.400000e+04  1972.000000         NaN\n",
       "25%       4.860000  3.623657e+07  5.105246e+06  2002.000000         NaN\n",
       "50%      16.770000  2.321509e+08  1.542370e+07  2014.000000         NaN\n",
       "75%      34.990000  1.153167e+09  4.144793e+07  2017.000000         NaN\n",
       "max    1935.500000  8.299033e+11  1.485426e+09  2019.000000         NaN"
      ],
      "text/html": "<div>\n<style scoped>\n    .dataframe tbody tr th:only-of-type {\n        vertical-align: middle;\n    }\n\n    .dataframe tbody tr th {\n        vertical-align: top;\n    }\n\n    .dataframe thead th {\n        text-align: right;\n    }\n</style>\n<table border=\"1\" class=\"dataframe\">\n  <thead>\n    <tr style=\"text-align: right;\">\n      <th></th>\n      <th>LastSale</th>\n      <th>MarketCap</th>\n      <th>ADR TSO</th>\n      <th>IPOyear</th>\n      <th>Unnamed: 9</th>\n    </tr>\n  </thead>\n  <tbody>\n    <tr>\n      <th>count</th>\n      <td>3423.000000</td>\n      <td>3.426000e+03</td>\n      <td>1.340000e+02</td>\n      <td>1584.000000</td>\n      <td>0.0</td>\n    </tr>\n    <tr>\n      <th>mean</th>\n      <td>31.639827</td>\n      <td>3.897142e+09</td>\n      <td>6.123901e+07</td>\n      <td>2009.040404</td>\n      <td>NaN</td>\n    </tr>\n    <tr>\n      <th>std</th>\n      <td>68.682113</td>\n      <td>3.335797e+10</td>\n      <td>1.663795e+08</td>\n      <td>9.908087</td>\n      <td>NaN</td>\n    </tr>\n    <tr>\n      <th>min</th>\n      <td>0.002900</td>\n      <td>0.000000e+00</td>\n      <td>2.400000e+04</td>\n      <td>1972.000000</td>\n      <td>NaN</td>\n    </tr>\n    <tr>\n      <th>25%</th>\n      <td>4.860000</td>\n      <td>3.623657e+07</td>\n      <td>5.105246e+06</td>\n      <td>2002.000000</td>\n      <td>NaN</td>\n    </tr>\n    <tr>\n      <th>50%</th>\n      <td>16.770000</td>\n      <td>2.321509e+08</td>\n      <td>1.542370e+07</td>\n      <td>2014.000000</td>\n      <td>NaN</td>\n    </tr>\n    <tr>\n      <th>75%</th>\n      <td>34.990000</td>\n      <td>1.153167e+09</td>\n      <td>4.144793e+07</td>\n      <td>2017.000000</td>\n      <td>NaN</td>\n    </tr>\n    <tr>\n      <th>max</th>\n      <td>1935.500000</td>\n      <td>8.299033e+11</td>\n      <td>1.485426e+09</td>\n      <td>2019.000000</td>\n      <td>NaN</td>\n    </tr>\n  </tbody>\n</table>\n</div>"
     },
     "metadata": {},
     "execution_count": 3
    }
   ],
   "source": [
    "df.describe()"
   ]
  },
  {
   "cell_type": "code",
   "execution_count": 4,
   "metadata": {},
   "outputs": [
    {
     "output_type": "execute_result",
     "data": {
      "text/plain": [
       "array([['YI', '111, Inc.', 8.01, ..., 'Medical/Nursing Services',\n",
       "        'https://www.nasdaq.com/symbol/yi', nan],\n",
       "       ['PIH', '1347 Property Insurance Holdings, Inc.', 4.8999, ...,\n",
       "        'Property-Casualty Insurers',\n",
       "        'https://www.nasdaq.com/symbol/pih', nan],\n",
       "       ['PIHPP', '1347 Property Insurance Holdings, Inc.', 22.65, ...,\n",
       "        'Property-Casualty Insurers',\n",
       "        'https://www.nasdaq.com/symbol/pihpp', nan],\n",
       "       ...,\n",
       "       ['ZYNE', 'Zynerba Pharmaceuticals, Inc.', 5.03, ...,\n",
       "        'Major Pharmaceuticals', 'https://www.nasdaq.com/symbol/zyne',\n",
       "        nan],\n",
       "       ['ZYXI', 'Zynex, Inc.', 5.09, ...,\n",
       "        'Biotechnology: Electromedical & Electrotherapeutic Apparatus',\n",
       "        'https://www.nasdaq.com/symbol/zyxi', nan],\n",
       "       ['ZNGA', 'Zynga Inc.', 5.1, ..., 'EDP Services',\n",
       "        'https://www.nasdaq.com/symbol/znga', nan]], dtype=object)"
      ]
     },
     "metadata": {},
     "execution_count": 4
    }
   ],
   "source": [
    "df.values"
   ]
  },
  {
   "cell_type": "code",
   "execution_count": 17,
   "metadata": {},
   "outputs": [
    {
     "output_type": "execute_result",
     "data": {
      "text/plain": [
       "     Symbol                 Name  LastSale     MarketCap  ADR TSO  IPOyear  \\\n",
       "50     ADBE           Adobe Inc.    257.81  1.257406e+11      NaN   1986.0   \n",
       "133    GOOG        Alphabet Inc.   1118.56  7.776077e+11      NaN   2004.0   \n",
       "134   GOOGL        Alphabet Inc.   1126.51  7.831344e+11      NaN      NaN   \n",
       "150    AMZN     Amazon.com, Inc.   1627.58  7.994720e+11      NaN   1997.0   \n",
       "183    AMGN           Amgen Inc.    186.97  1.191409e+11      NaN   1983.0   \n",
       "209    AAPL           Apple Inc.    170.93  8.059828e+11      NaN   1980.0   \n",
       "469    AVGO        Broadcom Inc.    281.66  1.147119e+11      NaN   2009.0   \n",
       "659    CSCO  Cisco Systems, Inc.     49.65  2.232245e+11      NaN   1990.0   \n",
       "716   CMCSA  Comcast Corporation     37.55  1.699499e+11      NaN      NaN   \n",
       "1053     FB       Facebook, Inc.    162.29  4.631740e+11      NaN   2012.0   \n",
       "\n",
       "                 Sector                                           Industry  \\\n",
       "50           Technology            Computer Software: Prepackaged Software   \n",
       "133          Technology    Computer Software: Programming, Data Processing   \n",
       "134          Technology    Computer Software: Programming, Data Processing   \n",
       "150   Consumer Services                     Catalog/Specialty Distribution   \n",
       "183         Health Care  Biotechnology: Biological Products (No Diagnos...   \n",
       "209          Technology                             Computer Manufacturing   \n",
       "469          Technology                                     Semiconductors   \n",
       "659          Technology                  Computer Communications Equipment   \n",
       "716   Consumer Services                                Television Services   \n",
       "1053         Technology    Computer Software: Programming, Data Processing   \n",
       "\n",
       "                            Summary Quote  Unnamed: 9  \n",
       "50     https://www.nasdaq.com/symbol/adbe         NaN  \n",
       "133    https://www.nasdaq.com/symbol/goog         NaN  \n",
       "134   https://www.nasdaq.com/symbol/googl         NaN  \n",
       "150    https://www.nasdaq.com/symbol/amzn         NaN  \n",
       "183    https://www.nasdaq.com/symbol/amgn         NaN  \n",
       "209    https://www.nasdaq.com/symbol/aapl         NaN  \n",
       "469    https://www.nasdaq.com/symbol/avgo         NaN  \n",
       "659    https://www.nasdaq.com/symbol/csco         NaN  \n",
       "716   https://www.nasdaq.com/symbol/cmcsa         NaN  \n",
       "1053     https://www.nasdaq.com/symbol/fb         NaN  "
      ],
      "text/html": "<div>\n<style scoped>\n    .dataframe tbody tr th:only-of-type {\n        vertical-align: middle;\n    }\n\n    .dataframe tbody tr th {\n        vertical-align: top;\n    }\n\n    .dataframe thead th {\n        text-align: right;\n    }\n</style>\n<table border=\"1\" class=\"dataframe\">\n  <thead>\n    <tr style=\"text-align: right;\">\n      <th></th>\n      <th>Symbol</th>\n      <th>Name</th>\n      <th>LastSale</th>\n      <th>MarketCap</th>\n      <th>ADR TSO</th>\n      <th>IPOyear</th>\n      <th>Sector</th>\n      <th>Industry</th>\n      <th>Summary Quote</th>\n      <th>Unnamed: 9</th>\n    </tr>\n  </thead>\n  <tbody>\n    <tr>\n      <th>50</th>\n      <td>ADBE</td>\n      <td>Adobe Inc.</td>\n      <td>257.81</td>\n      <td>1.257406e+11</td>\n      <td>NaN</td>\n      <td>1986.0</td>\n      <td>Technology</td>\n      <td>Computer Software: Prepackaged Software</td>\n      <td>https://www.nasdaq.com/symbol/adbe</td>\n      <td>NaN</td>\n    </tr>\n    <tr>\n      <th>133</th>\n      <td>GOOG</td>\n      <td>Alphabet Inc.</td>\n      <td>1118.56</td>\n      <td>7.776077e+11</td>\n      <td>NaN</td>\n      <td>2004.0</td>\n      <td>Technology</td>\n      <td>Computer Software: Programming, Data Processing</td>\n      <td>https://www.nasdaq.com/symbol/goog</td>\n      <td>NaN</td>\n    </tr>\n    <tr>\n      <th>134</th>\n      <td>GOOGL</td>\n      <td>Alphabet Inc.</td>\n      <td>1126.51</td>\n      <td>7.831344e+11</td>\n      <td>NaN</td>\n      <td>NaN</td>\n      <td>Technology</td>\n      <td>Computer Software: Programming, Data Processing</td>\n      <td>https://www.nasdaq.com/symbol/googl</td>\n      <td>NaN</td>\n    </tr>\n    <tr>\n      <th>150</th>\n      <td>AMZN</td>\n      <td>Amazon.com, Inc.</td>\n      <td>1627.58</td>\n      <td>7.994720e+11</td>\n      <td>NaN</td>\n      <td>1997.0</td>\n      <td>Consumer Services</td>\n      <td>Catalog/Specialty Distribution</td>\n      <td>https://www.nasdaq.com/symbol/amzn</td>\n      <td>NaN</td>\n    </tr>\n    <tr>\n      <th>183</th>\n      <td>AMGN</td>\n      <td>Amgen Inc.</td>\n      <td>186.97</td>\n      <td>1.191409e+11</td>\n      <td>NaN</td>\n      <td>1983.0</td>\n      <td>Health Care</td>\n      <td>Biotechnology: Biological Products (No Diagnos...</td>\n      <td>https://www.nasdaq.com/symbol/amgn</td>\n      <td>NaN</td>\n    </tr>\n    <tr>\n      <th>209</th>\n      <td>AAPL</td>\n      <td>Apple Inc.</td>\n      <td>170.93</td>\n      <td>8.059828e+11</td>\n      <td>NaN</td>\n      <td>1980.0</td>\n      <td>Technology</td>\n      <td>Computer Manufacturing</td>\n      <td>https://www.nasdaq.com/symbol/aapl</td>\n      <td>NaN</td>\n    </tr>\n    <tr>\n      <th>469</th>\n      <td>AVGO</td>\n      <td>Broadcom Inc.</td>\n      <td>281.66</td>\n      <td>1.147119e+11</td>\n      <td>NaN</td>\n      <td>2009.0</td>\n      <td>Technology</td>\n      <td>Semiconductors</td>\n      <td>https://www.nasdaq.com/symbol/avgo</td>\n      <td>NaN</td>\n    </tr>\n    <tr>\n      <th>659</th>\n      <td>CSCO</td>\n      <td>Cisco Systems, Inc.</td>\n      <td>49.65</td>\n      <td>2.232245e+11</td>\n      <td>NaN</td>\n      <td>1990.0</td>\n      <td>Technology</td>\n      <td>Computer Communications Equipment</td>\n      <td>https://www.nasdaq.com/symbol/csco</td>\n      <td>NaN</td>\n    </tr>\n    <tr>\n      <th>716</th>\n      <td>CMCSA</td>\n      <td>Comcast Corporation</td>\n      <td>37.55</td>\n      <td>1.699499e+11</td>\n      <td>NaN</td>\n      <td>NaN</td>\n      <td>Consumer Services</td>\n      <td>Television Services</td>\n      <td>https://www.nasdaq.com/symbol/cmcsa</td>\n      <td>NaN</td>\n    </tr>\n    <tr>\n      <th>1053</th>\n      <td>FB</td>\n      <td>Facebook, Inc.</td>\n      <td>162.29</td>\n      <td>4.631740e+11</td>\n      <td>NaN</td>\n      <td>2012.0</td>\n      <td>Technology</td>\n      <td>Computer Software: Programming, Data Processing</td>\n      <td>https://www.nasdaq.com/symbol/fb</td>\n      <td>NaN</td>\n    </tr>\n  </tbody>\n</table>\n</div>"
     },
     "metadata": {},
     "execution_count": 17
    }
   ],
   "source": [
    "df[df[\"MarketCap\"]>100000000000].head(10)"
   ]
  },
  {
   "cell_type": "code",
   "execution_count": 19,
   "metadata": {},
   "outputs": [
    {
     "output_type": "execute_result",
     "data": {
      "text/plain": [
       "     Symbol                            Name   LastSale     MarketCap  ADR TSO  \\\n",
       "2068   MSFT           Microsoft Corporation   108.1700  8.299033e+11      NaN   \n",
       "209    AAPL                      Apple Inc.   170.9300  8.059828e+11      NaN   \n",
       "150    AMZN                Amazon.com, Inc.  1627.5800  7.994720e+11      NaN   \n",
       "134   GOOGL                   Alphabet Inc.  1126.5100  7.831344e+11      NaN   \n",
       "133    GOOG                   Alphabet Inc.  1118.5600  7.776077e+11      NaN   \n",
       "...     ...                             ...        ...           ...      ...   \n",
       "2990  TCBIL  Texas Capital Bancshares, Inc.    25.6114  0.000000e+00      NaN   \n",
       "2374  OTLKW      Outlook Therapeutics, Inc.     0.5300  0.000000e+00      NaN   \n",
       "516   CSWCL   Capital Southwest Corporation    25.8562  0.000000e+00      NaN   \n",
       "518   CPTAG          Capitala Finance Corp.    25.0000  0.000000e+00      NaN   \n",
       "1801  JASNW          Jason Industries, Inc.     0.0065  0.000000e+00      NaN   \n",
       "\n",
       "      IPOyear                 Sector  \\\n",
       "2068   1986.0             Technology   \n",
       "209    1980.0             Technology   \n",
       "150    1997.0      Consumer Services   \n",
       "134       NaN             Technology   \n",
       "133    2004.0             Technology   \n",
       "...       ...                    ...   \n",
       "2990      NaN                Finance   \n",
       "2374   2016.0            Health Care   \n",
       "516       NaN  Consumer Non-Durables   \n",
       "518       NaN                    NaN   \n",
       "1801   2013.0      Consumer Durables   \n",
       "\n",
       "                                               Industry  \\\n",
       "2068            Computer Software: Prepackaged Software   \n",
       "209                              Computer Manufacturing   \n",
       "150                      Catalog/Specialty Distribution   \n",
       "134     Computer Software: Programming, Data Processing   \n",
       "133     Computer Software: Programming, Data Processing   \n",
       "...                                                 ...   \n",
       "2990                                        Major Banks   \n",
       "2374  Biotechnology: Biological Products (No Diagnos...   \n",
       "516                                            Textiles   \n",
       "518                                                 NaN   \n",
       "1801             Miscellaneous manufacturing industries   \n",
       "\n",
       "                            Summary Quote  Unnamed: 9  \n",
       "2068   https://www.nasdaq.com/symbol/msft         NaN  \n",
       "209    https://www.nasdaq.com/symbol/aapl         NaN  \n",
       "150    https://www.nasdaq.com/symbol/amzn         NaN  \n",
       "134   https://www.nasdaq.com/symbol/googl         NaN  \n",
       "133    https://www.nasdaq.com/symbol/goog         NaN  \n",
       "...                                   ...         ...  \n",
       "2990  https://www.nasdaq.com/symbol/tcbil         NaN  \n",
       "2374  https://www.nasdaq.com/symbol/otlkw         NaN  \n",
       "516   https://www.nasdaq.com/symbol/cswcl         NaN  \n",
       "518   https://www.nasdaq.com/symbol/cptag         NaN  \n",
       "1801  https://www.nasdaq.com/symbol/jasnw         NaN  \n",
       "\n",
       "[3426 rows x 10 columns]"
      ],
      "text/html": "<div>\n<style scoped>\n    .dataframe tbody tr th:only-of-type {\n        vertical-align: middle;\n    }\n\n    .dataframe tbody tr th {\n        vertical-align: top;\n    }\n\n    .dataframe thead th {\n        text-align: right;\n    }\n</style>\n<table border=\"1\" class=\"dataframe\">\n  <thead>\n    <tr style=\"text-align: right;\">\n      <th></th>\n      <th>Symbol</th>\n      <th>Name</th>\n      <th>LastSale</th>\n      <th>MarketCap</th>\n      <th>ADR TSO</th>\n      <th>IPOyear</th>\n      <th>Sector</th>\n      <th>Industry</th>\n      <th>Summary Quote</th>\n      <th>Unnamed: 9</th>\n    </tr>\n  </thead>\n  <tbody>\n    <tr>\n      <th>2068</th>\n      <td>MSFT</td>\n      <td>Microsoft Corporation</td>\n      <td>108.1700</td>\n      <td>8.299033e+11</td>\n      <td>NaN</td>\n      <td>1986.0</td>\n      <td>Technology</td>\n      <td>Computer Software: Prepackaged Software</td>\n      <td>https://www.nasdaq.com/symbol/msft</td>\n      <td>NaN</td>\n    </tr>\n    <tr>\n      <th>209</th>\n      <td>AAPL</td>\n      <td>Apple Inc.</td>\n      <td>170.9300</td>\n      <td>8.059828e+11</td>\n      <td>NaN</td>\n      <td>1980.0</td>\n      <td>Technology</td>\n      <td>Computer Manufacturing</td>\n      <td>https://www.nasdaq.com/symbol/aapl</td>\n      <td>NaN</td>\n    </tr>\n    <tr>\n      <th>150</th>\n      <td>AMZN</td>\n      <td>Amazon.com, Inc.</td>\n      <td>1627.5800</td>\n      <td>7.994720e+11</td>\n      <td>NaN</td>\n      <td>1997.0</td>\n      <td>Consumer Services</td>\n      <td>Catalog/Specialty Distribution</td>\n      <td>https://www.nasdaq.com/symbol/amzn</td>\n      <td>NaN</td>\n    </tr>\n    <tr>\n      <th>134</th>\n      <td>GOOGL</td>\n      <td>Alphabet Inc.</td>\n      <td>1126.5100</td>\n      <td>7.831344e+11</td>\n      <td>NaN</td>\n      <td>NaN</td>\n      <td>Technology</td>\n      <td>Computer Software: Programming, Data Processing</td>\n      <td>https://www.nasdaq.com/symbol/googl</td>\n      <td>NaN</td>\n    </tr>\n    <tr>\n      <th>133</th>\n      <td>GOOG</td>\n      <td>Alphabet Inc.</td>\n      <td>1118.5600</td>\n      <td>7.776077e+11</td>\n      <td>NaN</td>\n      <td>2004.0</td>\n      <td>Technology</td>\n      <td>Computer Software: Programming, Data Processing</td>\n      <td>https://www.nasdaq.com/symbol/goog</td>\n      <td>NaN</td>\n    </tr>\n    <tr>\n      <th>...</th>\n      <td>...</td>\n      <td>...</td>\n      <td>...</td>\n      <td>...</td>\n      <td>...</td>\n      <td>...</td>\n      <td>...</td>\n      <td>...</td>\n      <td>...</td>\n      <td>...</td>\n    </tr>\n    <tr>\n      <th>2990</th>\n      <td>TCBIL</td>\n      <td>Texas Capital Bancshares, Inc.</td>\n      <td>25.6114</td>\n      <td>0.000000e+00</td>\n      <td>NaN</td>\n      <td>NaN</td>\n      <td>Finance</td>\n      <td>Major Banks</td>\n      <td>https://www.nasdaq.com/symbol/tcbil</td>\n      <td>NaN</td>\n    </tr>\n    <tr>\n      <th>2374</th>\n      <td>OTLKW</td>\n      <td>Outlook Therapeutics, Inc.</td>\n      <td>0.5300</td>\n      <td>0.000000e+00</td>\n      <td>NaN</td>\n      <td>2016.0</td>\n      <td>Health Care</td>\n      <td>Biotechnology: Biological Products (No Diagnos...</td>\n      <td>https://www.nasdaq.com/symbol/otlkw</td>\n      <td>NaN</td>\n    </tr>\n    <tr>\n      <th>516</th>\n      <td>CSWCL</td>\n      <td>Capital Southwest Corporation</td>\n      <td>25.8562</td>\n      <td>0.000000e+00</td>\n      <td>NaN</td>\n      <td>NaN</td>\n      <td>Consumer Non-Durables</td>\n      <td>Textiles</td>\n      <td>https://www.nasdaq.com/symbol/cswcl</td>\n      <td>NaN</td>\n    </tr>\n    <tr>\n      <th>518</th>\n      <td>CPTAG</td>\n      <td>Capitala Finance Corp.</td>\n      <td>25.0000</td>\n      <td>0.000000e+00</td>\n      <td>NaN</td>\n      <td>NaN</td>\n      <td>NaN</td>\n      <td>NaN</td>\n      <td>https://www.nasdaq.com/symbol/cptag</td>\n      <td>NaN</td>\n    </tr>\n    <tr>\n      <th>1801</th>\n      <td>JASNW</td>\n      <td>Jason Industries, Inc.</td>\n      <td>0.0065</td>\n      <td>0.000000e+00</td>\n      <td>NaN</td>\n      <td>2013.0</td>\n      <td>Consumer Durables</td>\n      <td>Miscellaneous manufacturing industries</td>\n      <td>https://www.nasdaq.com/symbol/jasnw</td>\n      <td>NaN</td>\n    </tr>\n  </tbody>\n</table>\n<p>3426 rows × 10 columns</p>\n</div>"
     },
     "metadata": {},
     "execution_count": 19
    }
   ],
   "source": [
    "df.sort_values('MarketCap', ascending=False)"
   ]
  },
  {
   "cell_type": "code",
   "execution_count": 18,
   "metadata": {},
   "outputs": [
    {
     "output_type": "execute_result",
     "data": {
      "text/plain": [
       "  Symbol                                    Name             Sector  \\\n",
       "0     YI                               111, Inc.        Health Care   \n",
       "1    PIH  1347 Property Insurance Holdings, Inc.            Finance   \n",
       "2  PIHPP  1347 Property Insurance Holdings, Inc.            Finance   \n",
       "3   TURN                180 Degree Capital Corp.            Finance   \n",
       "4   FLWS                 1-800 FLOWERS.COM, Inc.  Consumer Services   \n",
       "\n",
       "                     Industry     MarketCap  \n",
       "0    Medical/Nursing Services  6.395629e+07  \n",
       "1  Property-Casualty Insurers  2.936232e+07  \n",
       "2  Property-Casualty Insurers  0.000000e+00  \n",
       "3  Finance/Investors Services  6.038517e+07  \n",
       "4      Other Specialty Stores  1.103523e+09  "
      ],
      "text/html": "<div>\n<style scoped>\n    .dataframe tbody tr th:only-of-type {\n        vertical-align: middle;\n    }\n\n    .dataframe tbody tr th {\n        vertical-align: top;\n    }\n\n    .dataframe thead th {\n        text-align: right;\n    }\n</style>\n<table border=\"1\" class=\"dataframe\">\n  <thead>\n    <tr style=\"text-align: right;\">\n      <th></th>\n      <th>Symbol</th>\n      <th>Name</th>\n      <th>Sector</th>\n      <th>Industry</th>\n      <th>MarketCap</th>\n    </tr>\n  </thead>\n  <tbody>\n    <tr>\n      <th>0</th>\n      <td>YI</td>\n      <td>111, Inc.</td>\n      <td>Health Care</td>\n      <td>Medical/Nursing Services</td>\n      <td>6.395629e+07</td>\n    </tr>\n    <tr>\n      <th>1</th>\n      <td>PIH</td>\n      <td>1347 Property Insurance Holdings, Inc.</td>\n      <td>Finance</td>\n      <td>Property-Casualty Insurers</td>\n      <td>2.936232e+07</td>\n    </tr>\n    <tr>\n      <th>2</th>\n      <td>PIHPP</td>\n      <td>1347 Property Insurance Holdings, Inc.</td>\n      <td>Finance</td>\n      <td>Property-Casualty Insurers</td>\n      <td>0.000000e+00</td>\n    </tr>\n    <tr>\n      <th>3</th>\n      <td>TURN</td>\n      <td>180 Degree Capital Corp.</td>\n      <td>Finance</td>\n      <td>Finance/Investors Services</td>\n      <td>6.038517e+07</td>\n    </tr>\n    <tr>\n      <th>4</th>\n      <td>FLWS</td>\n      <td>1-800 FLOWERS.COM, Inc.</td>\n      <td>Consumer Services</td>\n      <td>Other Specialty Stores</td>\n      <td>1.103523e+09</td>\n    </tr>\n  </tbody>\n</table>\n</div>"
     },
     "metadata": {},
     "execution_count": 18
    }
   ],
   "source": [
    "df1 = pd.DataFrame(df, columns=['Symbol', 'Name', 'Sector', 'Industry', 'MarketCap'])\n",
    "df1.head(5)"
   ]
  },
  {
   "cell_type": "code",
   "execution_count": 32,
   "metadata": {},
   "outputs": [],
   "source": [
    "def dollar(x):\n",
    "    return int(x)\n"
   ]
  },
  {
   "cell_type": "code",
   "execution_count": 33,
   "metadata": {},
   "outputs": [
    {
     "output_type": "execute_result",
     "data": {
      "text/plain": [
       "0      63956285\n",
       "1      29362317\n",
       "2             0\n",
       "3      60385166\n",
       "4    1103522553\n",
       "Name: MarketCap, dtype: int64"
      ]
     },
     "metadata": {},
     "execution_count": 33
    }
   ],
   "source": [
    "MC=df1['MarketCap'].apply(dollar)\n",
    "MC.head(5)\n",
    "\n"
   ]
  }
 ],
 "metadata": {
  "kernelspec": {
   "name": "python3",
   "display_name": "Python 3.8.2 64-bit"
  },
  "language_info": {
   "codemirror_mode": {
    "name": "ipython",
    "version": 3
   },
   "file_extension": ".py",
   "mimetype": "text/x-python",
   "name": "python",
   "nbconvert_exporter": "python",
   "pygments_lexer": "ipython3",
   "version": "3.8.2"
  },
  "interpreter": {
   "hash": "aee8b7b246df8f9039afb4144a1f6fd8d2ca17a180786b69acc140d282b71a49"
  }
 },
 "nbformat": 4,
 "nbformat_minor": 4
}